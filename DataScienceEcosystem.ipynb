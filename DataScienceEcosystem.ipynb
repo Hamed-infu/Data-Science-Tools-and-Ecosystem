{
 "cells": [
  {
   "cell_type": "markdown",
   "id": "ed5c7217-f060-4735-bf3b-f205fc342358",
   "metadata": {},
   "source": [
    "# Data Science Tools and Ecosystem"
   ]
  },
  {
   "cell_type": "markdown",
   "id": "0c7e5fc9-db5b-42a6-b104-ef4587f9db81",
   "metadata": {},
   "source": [
    "In this notebook, Data Science Tools and Ecosystem are summarized."
   ]
  },
  {
   "cell_type": "markdown",
   "id": "ce361d2d-9024-46ac-8548-28aba8ac9acb",
   "metadata": {},
   "source": [
    "Some of the popular languages that Data Scientists use are:\n",
    "\n",
    "1. Python\n",
    "2. R\n",
    "3. SQL"
   ]
  },
  {
   "cell_type": "markdown",
   "id": "386ae3ea-a3fd-472a-9540-60d8ed009c2f",
   "metadata": {},
   "source": [
    "Some of the commonly used libraries used by Data Scientists include:\n",
    "\n",
    "1. Pandas\n",
    "2. Numpy\n",
    "3. Matplotlib"
   ]
  },
  {
   "cell_type": "markdown",
   "id": "7958fc71-2906-4042-9e1b-0a5e033670b0",
   "metadata": {},
   "source": [
    "Data Science Tools |\n",
    "------------------ |\n",
    "MySQL              |\n",
    "Mongo DB           |\n",
    "Hadoop File System |"
   ]
  },
  {
   "cell_type": "markdown",
   "id": "2e1a8d59-b2a5-4452-b65f-7579b29c1d73",
   "metadata": {},
   "source": [
    "### Below are a few examples of evaluating arithmetic expressions in Python"
   ]
  },
  {
   "cell_type": "code",
   "execution_count": 2,
   "id": "f31965e3-a200-458c-8a5a-21af79bf1918",
   "metadata": {},
   "outputs": [
    {
     "data": {
      "text/plain": [
       "17"
      ]
     },
     "execution_count": 2,
     "metadata": {},
     "output_type": "execute_result"
    }
   ],
   "source": [
    "# This a simple arithmetic expression to mutiply then add integers\n",
    "\n",
    "(3*4)+5"
   ]
  },
  {
   "cell_type": "code",
   "execution_count": 7,
   "id": "a184d3e3-d002-4784-89b8-0e78a356afbb",
   "metadata": {},
   "outputs": [
    {
     "name": "stdout",
     "output_type": "stream",
     "text": [
      "3 h: 20 m\n"
     ]
    }
   ],
   "source": [
    "# This will convert 200 minutes to hours by diving by 60\n",
    "mins = 200\n",
    "h = 200 // 60\n",
    "m = 200 % 60\n",
    "print(h,'h:',m,'m')"
   ]
  },
  {
   "cell_type": "markdown",
   "id": "07dc1665-90d8-406a-b331-fb9cc3a10040",
   "metadata": {},
   "source": [
    "**Objectives:**\n",
    "- Some of the popular languages that Data Scientists use\n",
    "- Some of the commonly used libraries used by Data Scientists\n",
    "- a few examples of evaluating arithmetic expressions in Python"
   ]
  },
  {
   "cell_type": "markdown",
   "id": "35813bde-9470-44c2-a21b-0715af7d2b9e",
   "metadata": {},
   "source": [
    "## Author\n",
    "Hamed "
   ]
  }
 ],
 "metadata": {
  "kernelspec": {
   "display_name": "Python 3 (ipykernel)",
   "language": "python",
   "name": "python3"
  },
  "language_info": {
   "codemirror_mode": {
    "name": "ipython",
    "version": 3
   },
   "file_extension": ".py",
   "mimetype": "text/x-python",
   "name": "python",
   "nbconvert_exporter": "python",
   "pygments_lexer": "ipython3",
   "version": "3.10.9"
  }
 },
 "nbformat": 4,
 "nbformat_minor": 5
}
